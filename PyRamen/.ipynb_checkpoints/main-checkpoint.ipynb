{
 "cells": [
  {
   "cell_type": "code",
   "execution_count": 4,
   "metadata": {},
   "outputs": [
    {
     "data": {
      "text/plain": [
       "WindowsPath('C:/Users/nites/OneDrive/Desktop/FinTech_NJ/Python_homework/PyRamen')"
      ]
     },
     "execution_count": 4,
     "metadata": {},
     "output_type": "execute_result"
    }
   ],
   "source": [
    "# -*- coding: UTF-8 -*-\n",
    "\"\"\"PyRamen Homework Starter.\"\"\"\n",
    "\n",
    "# @TODO: Import libraries\n",
    "import csv\n",
    "from pathlib import Path\n",
    "Path.cwd()"
   ]
  },
  {
   "cell_type": "code",
   "execution_count": 7,
   "metadata": {},
   "outputs": [
    {
     "name": "stdout",
     "output_type": "stream",
     "text": [
      "['item', 'category', 'description', 'price', 'cost']\n",
      "\n",
      "\n",
      "['Line_Item_ID', 'Date', 'Credit_Card_Number', 'Quantity', 'Menu_Item']\n",
      "[['1', '01-01-2017', '7437926611570799', '1', 'spicy miso ramen'], ['2', '01-01-2017', '7437926611570799', '1', 'spicy miso ramen'], ['3', '01-01-2017', '8421920068932819', '3', 'tori paitan ramen'], ['4', '01-01-2017', '8421920068932819', '3', 'tori paitan ramen'], ['5', '01-01-2017', '4787310681569648', '1', 'truffle butter ramen'], ['6', '01-01-2017', '4787310681569648', '1', 'truffle butter ramen'], ['7', '01-01-2017', '8252818705821725', '1', 'tonkotsu ramen'], ['8', '01-01-2017', '8252818705821725', '1', 'tonkotsu ramen'], ['9', '01-01-2017', '3119034881407323', '1', 'vegetarian spicy miso'], ['10', '01-01-2017', '3119034881407323', '1', 'vegetarian spicy miso']]\n"
     ]
    }
   ],
   "source": [
    "# @TODO: Set file paths for menu_data.csv and sales_data.csv\n",
    "menu_filepath = Path('../Instructions/PyRamen/Resources/menu_data.csv')\n",
    "sales_filepath = Path('../Instructions/PyRamen/Resources/sales_data.csv')\n",
    "\n",
    "# @TODO: Initialize list objects to hold our menu and sales data\n",
    "menu = []\n",
    "sales = []\n",
    "\n",
    "# @TODO: Read in the menu data into the menu list\n",
    "\n",
    "with open(menu_filepath, 'r') as menufile:\n",
    "    csvreader=csv.reader(menufile, delimiter=',')\n",
    "    \n",
    "    header = next(csvreader)\n",
    "    print(header)\n",
    " # to directly create list of lists menu =list(csvreader)\n",
    " # to print the csv file as list  print(menu)\n",
    "    for line in csvreader:\n",
    "       # To view the contents of the csvfile print(line)\n",
    "        \n",
    "        \n",
    "        item = line[0]\n",
    "        category= line[1]\n",
    "        description= line[2]\n",
    "        price= float(line[3])\n",
    "        cost= float(line[4])\n",
    "        menu.append(line)\n",
    "        \n",
    " #to print the menu list of lists   print(menu)\n",
    "    print(\"\\n\")\n",
    "\n",
    "\n",
    "\n",
    "\n",
    "\n",
    "\n",
    "\n",
    "\n",
    "# @TODO: Read in the sales data into the sales list\n",
    "\n",
    "with open(sales_filepath, 'r') as salesfile:\n",
    "    csvreader=csv.reader(salesfile, delimiter=',')\n",
    "    \n",
    "    header = next(csvreader)\n",
    "    print(header)\n",
    " \n",
    "    for line in csvreader:\n",
    "         # To view the contents of the csvfile print(line)\n",
    "        \n",
    "        \n",
    "        line_num = int(line[0])\n",
    "        date= line[1]\n",
    "        cc_num= int(line[2])\n",
    "        quantity= float(line[3])\n",
    "\n",
    "        menu_item= line[4]\n",
    "        sales.append(line)\n",
    "#only printing 10 values of the list as printing all the values initiates IOpub rate error\n",
    "    print(sales[:10]) "
   ]
  },
  {
   "cell_type": "code",
   "execution_count": 1,
   "metadata": {},
   "outputs": [
    {
     "ename": "FileNotFoundError",
     "evalue": "[Errno 2] No such file or directory: 'Resources\\\\menu_data.csv'",
     "output_type": "error",
     "traceback": [
      "\u001b[1;31m---------------------------------------------------------------------------\u001b[0m",
      "\u001b[1;31mFileNotFoundError\u001b[0m                         Traceback (most recent call last)",
      "\u001b[1;32m<ipython-input-1-6660ce5d63c2>\u001b[0m in \u001b[0;36m<module>\u001b[1;34m\u001b[0m\n\u001b[0;32m     17\u001b[0m \u001b[1;31m# @TODO: Read in the menu data into the menu list\u001b[0m\u001b[1;33m\u001b[0m\u001b[1;33m\u001b[0m\u001b[1;33m\u001b[0m\u001b[0m\n\u001b[0;32m     18\u001b[0m \u001b[1;33m\u001b[0m\u001b[0m\n\u001b[1;32m---> 19\u001b[1;33m \u001b[1;32mwith\u001b[0m \u001b[0mopen\u001b[0m\u001b[1;33m(\u001b[0m\u001b[0mmenu_filepath\u001b[0m\u001b[1;33m,\u001b[0m \u001b[1;34m'r'\u001b[0m\u001b[1;33m)\u001b[0m \u001b[1;32mas\u001b[0m \u001b[0mmenufile\u001b[0m\u001b[1;33m:\u001b[0m\u001b[1;33m\u001b[0m\u001b[1;33m\u001b[0m\u001b[0m\n\u001b[0m\u001b[0;32m     20\u001b[0m     \u001b[0mcsvreader\u001b[0m\u001b[1;33m=\u001b[0m\u001b[0mcsv\u001b[0m\u001b[1;33m.\u001b[0m\u001b[0mreader\u001b[0m\u001b[1;33m(\u001b[0m\u001b[0mmenufile\u001b[0m\u001b[1;33m,\u001b[0m \u001b[0mdelimiter\u001b[0m\u001b[1;33m=\u001b[0m\u001b[1;34m','\u001b[0m\u001b[1;33m)\u001b[0m\u001b[1;33m\u001b[0m\u001b[1;33m\u001b[0m\u001b[0m\n\u001b[0;32m     21\u001b[0m \u001b[1;33m\u001b[0m\u001b[0m\n",
      "\u001b[1;31mFileNotFoundError\u001b[0m: [Errno 2] No such file or directory: 'Resources\\\\menu_data.csv'"
     ]
    }
   ],
   "source": [
    "# @TODO: Initialize dict object to hold our key-value pairs of items and metrics\n",
    "report = {}\n",
    "\n",
    "# Initialize a row counter variable\n",
    "row_count = 0\n",
    "\n",
    "# @TODO: Loop over every row in the sales list object\n",
    "\n",
    "\n",
    "\n",
    "\n",
    "    # Line_Item_ID,Date,Credit_Card_Number,Quantity,Menu_Item\n",
    "    # @TODO: Initialize sales data variables\n",
    "\n",
    "\n",
    "    # @TODO:\n",
    "    # If the item value not in the report, add it as a new entry with initialized metrics\n",
    "    # Naming convention allows the keys to be ordered in logical fashion, count, revenue, cost, profit\n",
    "\n",
    "\n",
    "\n",
    "\n",
    "\n",
    "\n",
    "\n",
    "\n",
    "    # @TODO: For every row in our sales data, loop over the menu records to determine a match\n",
    "\n",
    "\n",
    "        # Item,Category,Description,Price,Cost\n",
    "        # @TODO: Initialize menu data variables\n",
    "\n",
    "\n",
    "\n",
    "\n",
    "        # @TODO: Calculate profit of each item in the menu data\n",
    "\n",
    "\n",
    "        # @TODO: If the item value in our sales data is equal to the any of the items in the menu, then begin tracking metrics for that item\n",
    "\n",
    "\n",
    "            # @TODO: Print out matching menu data\n",
    "\n",
    "\n",
    "\n",
    "\n",
    "\n",
    "\n",
    "            # @TODO: Cumulatively add up the metrics for each item key\n",
    "\n",
    "\n",
    "\n",
    "\n",
    "\n",
    "        # @TODO: Else, the sales item does not equal any fo the item in the menu data, therefore no match\n",
    "\n",
    "\n",
    "\n",
    "    # @TODO: Increment the row counter by 1\n",
    "\n",
    "\n",
    "# @TODO: Print total number of records in sales data\n",
    "\n",
    "\n",
    "\n",
    "\n",
    "# @TODO: Write out report to a text file (won't appear on the command line output)"
   ]
  },
  {
   "cell_type": "code",
   "execution_count": null,
   "metadata": {},
   "outputs": [],
   "source": []
  }
 ],
 "metadata": {
  "kernelspec": {
   "display_name": "Python 3",
   "language": "python",
   "name": "python3"
  },
  "language_info": {
   "codemirror_mode": {
    "name": "ipython",
    "version": 3
   },
   "file_extension": ".py",
   "mimetype": "text/x-python",
   "name": "python",
   "nbconvert_exporter": "python",
   "pygments_lexer": "ipython3",
   "version": "3.7.6"
  }
 },
 "nbformat": 4,
 "nbformat_minor": 4
}
