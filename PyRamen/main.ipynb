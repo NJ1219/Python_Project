{
 "cells": [
  {
   "cell_type": "code",
   "execution_count": 23,
   "metadata": {},
   "outputs": [
    {
     "data": {
      "text/plain": [
       "WindowsPath('C:/Users/nites/OneDrive/Desktop/FinTech_NJ/Python_homework/PyRamen')"
      ]
     },
     "execution_count": 23,
     "metadata": {},
     "output_type": "execute_result"
    }
   ],
   "source": [
    "# -*- coding: UTF-8 -*-\n",
    "\"\"\"PyRamen Homework Starter.\"\"\"\n",
    "\n",
    "# @TODO: Import libraries\n",
    "import csv\n",
    "from pathlib import Path\n",
    "Path.cwd()"
   ]
  },
  {
   "cell_type": "code",
   "execution_count": 24,
   "metadata": {},
   "outputs": [
    {
     "name": "stdout",
     "output_type": "stream",
     "text": [
      "['item', 'category', 'description', 'price', 'cost'], 'profit'\n"
     ]
    }
   ],
   "source": [
    "# @TODO: Set file paths for menu_data.csv and sales_data.csv\n",
    "menu_filepath = Path('Resources/menu_data.csv')\n",
    "sales_filepath = Path('Resources/sales_data.csv')\n",
    "\n",
    "# @TODO: Initialize list objects to hold our menu and sales data\n",
    "menu = []\n",
    "sales = []\n",
    "\n",
    "# @TODO: Read in the menu data into the menu list\n",
    "\n",
    "with open(menu_filepath, 'r') as menufile:\n",
    "    csvreader=csv.reader(menufile, delimiter=',')\n",
    "    \n",
    "    header = next(csvreader)\n",
    "    print(f\"{header}, 'profit'\")\n",
    " # to directly create list of lists menu =list(csvreader)\n",
    " # to print the csv file as list  print(menu)\n",
    "    for line in csvreader:\n",
    "       # To view the contents of the csvfile---> print(line)\n",
    "        \n",
    "        \n",
    "        item = line[0]\n",
    "        category= line[1]\n",
    "        description= line[2]\n",
    "        price= float(line[3])\n",
    "        cost= float(line[4])\n",
    "    # @TODO: Calculate profit of each item in the menu data\n",
    "        profit = price - cost\n",
    "        \n",
    "        line.append(profit)\n",
    "        menu.append(line)\n",
    "        \n",
    "       \n",
    "        \n",
    " #to print the menu list of lists   \n",
    "   # print(menu)\n",
    "    \n",
    "    "
   ]
  },
  {
   "cell_type": "code",
   "execution_count": 25,
   "metadata": {},
   "outputs": [],
   "source": [
    "# @TODO: Initialize dict object to hold our key-value pairs of items and metrics\n",
    "report = {}\n",
    "\n",
    "# Initialize a row counter variable\n",
    "row_count = 0"
   ]
  },
  {
   "cell_type": "code",
   "execution_count": 53,
   "metadata": {},
   "outputs": [
    {
     "name": "stdout",
     "output_type": "stream",
     "text": [
      "['Line_Item_ID', 'Date', 'Credit_Card_Number', 'Quantity', 'Menu_Item']\n",
      "spicy miso ramen {'01-count': 9240, '02-revenue': 55440.0, '03-cogs': 27720.0, '04-profit': 27720.0}\n",
      "tori paitan ramen {'01-count': 9156, '02-revenue': 54936.0, '03-cogs': 27468.0, '04-profit': 27468.0}\n",
      "truffle butter ramen {'01-count': 8982, '02-revenue': 53892.0, '03-cogs': 26946.0, '04-profit': 26946.0}\n",
      "tonkotsu ramen {'01-count': 9288, '02-revenue': 55728.0, '03-cogs': 27864.0, '04-profit': 27864.0}\n",
      "vegetarian spicy miso {'01-count': 9216, '02-revenue': 55296.0, '03-cogs': 27648.0, '04-profit': 27648.0}\n",
      "shio ramen {'01-count': 9180, '02-revenue': 55080.0, '03-cogs': 27540.0, '04-profit': 27540.0}\n",
      "miso crab ramen {'01-count': 8890, '02-revenue': 53340.0, '03-cogs': 26670.0, '04-profit': 26670.0}\n",
      "nagomi shoyu {'01-count': 9132, '02-revenue': 54792.0, '03-cogs': 27396.0, '04-profit': 27396.0}\n",
      "soft-shell miso crab ramen {'01-count': 9130, '02-revenue': 54780.0, '03-cogs': 27390.0, '04-profit': 27390.0}\n",
      "burnt garlic tonkotsu ramen {'01-count': 9070, '02-revenue': 54420.0, '03-cogs': 27210.0, '04-profit': 27210.0}\n",
      "vegetarian curry + king trumpet mushroom ramen {'01-count': 8824, '02-revenue': 52944.0, '03-cogs': 26472.0, '04-profit': 26472.0}\n"
     ]
    }
   ],
   "source": [
    "# @TODO: Read in the sales data into the sales list\n",
    "\n",
    "with open(sales_filepath, 'r') as salesfile:\n",
    "    csvreader=csv.reader(salesfile, delimiter=',')\n",
    "    \n",
    "    header = next(csvreader)\n",
    "    print(header)\n",
    " \n",
    "    for line in csvreader:\n",
    "# To view the contents of the csvfile--> print(line)\n",
    "        \n",
    "    # Line_Item_ID,Date,Credit_Card_Number,Quantity,Menu_Item\n",
    "    # @TODO: Initialize sales data variables\n",
    "   \n",
    "        line_num = int(line[0])\n",
    "        date= line[1]\n",
    "        cc_num= int(line[2])\n",
    "        quantity= int(line[3])\n",
    "        menu_item= line[4]\n",
    "        sales.append(line)\n",
    "        \n",
    "       # print(sales[:10])\n",
    "\n",
    "# @TODO:\n",
    "# If the item value not in the report, add it as a new entry with initialized metrics\n",
    "# Naming convention allows the keys to be ordered in logical fashion, count, revenue, cost, profit\n",
    "        if menu_item not in report.keys():\n",
    "            report[menu_item] = {\"01-count\": quantity, \"02-revenue\" :quantity*price, \"03-cogs\": quantity * cost, \"04-profit\": quantity * profit}\n",
    "        else:\n",
    "            report[menu_item][\"01-count\"] += quantity\n",
    "            report[menu_item][\"02-revenue\"] += quantity*price\n",
    "            report[menu_item][\"03-cogs\"] += quantity*cost\n",
    "            report[menu_item][\"04-profit\"] += quantity*profit\n",
    "\n",
    "# Print the output to the console    \n",
    "    for a, b in report.items():\n",
    "        print (a,b)\n",
    "    \n",
    "            "
   ]
  },
  {
   "cell_type": "code",
   "execution_count": 54,
   "metadata": {},
   "outputs": [
    {
     "data": {
      "text/plain": [
       "WindowsPath('C:/Users/nites/OneDrive/Desktop/FinTech_NJ/Python_homework/PyRamen')"
      ]
     },
     "execution_count": 54,
     "metadata": {},
     "output_type": "execute_result"
    }
   ],
   "source": [
    "# output file with metrics\n",
    "output_path = Path(\"output.txt\")\n",
    "Path.cwd()  "
   ]
  },
  {
   "cell_type": "code",
   "execution_count": 55,
   "metadata": {},
   "outputs": [],
   "source": [
    "with open(output_path, 'w') as file:\n",
    "    file.write(\"Report for PyRamen.\\n\")\n",
    "    for key in report:\n",
    "        file.write(f\"{key} {report[key]} \\n\")"
   ]
  },
  {
   "cell_type": "code",
   "execution_count": null,
   "metadata": {},
   "outputs": [],
   "source": []
  }
 ],
 "metadata": {
  "kernelspec": {
   "display_name": "Python 3",
   "language": "python",
   "name": "python3"
  },
  "language_info": {
   "codemirror_mode": {
    "name": "ipython",
    "version": 3
   },
   "file_extension": ".py",
   "mimetype": "text/x-python",
   "name": "python",
   "nbconvert_exporter": "python",
   "pygments_lexer": "ipython3",
   "version": "3.7.6"
  }
 },
 "nbformat": 4,
 "nbformat_minor": 4
}
