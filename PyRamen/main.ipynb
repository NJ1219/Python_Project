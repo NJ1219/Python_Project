{
 "cells": [
  {
   "cell_type": "code",
   "execution_count": 1,
   "metadata": {},
   "outputs": [
    {
     "data": {
      "text/plain": [
       "WindowsPath('C:/Users/nites/OneDrive/Desktop/FinTech_NJ/Python_homework/PyRamen')"
      ]
     },
     "execution_count": 1,
     "metadata": {},
     "output_type": "execute_result"
    }
   ],
   "source": [
    "# -*- coding: UTF-8 -*-\n",
    "\"\"\"PyRamen Homework Starter.\"\"\"\n",
    "\n",
    "# @TODO: Import libraries\n",
    "import csv\n",
    "from pathlib import Path\n",
    "Path.cwd()"
   ]
  },
  {
   "cell_type": "code",
   "execution_count": 2,
   "metadata": {},
   "outputs": [
    {
     "name": "stdout",
     "output_type": "stream",
     "text": [
      "['item', 'category', 'description', 'price', 'cost'], 'profit'\n"
     ]
    }
   ],
   "source": [
    "# @TODO: Set file paths for menu_data.csv and sales_data.csv\n",
    "menu_filepath = Path('Resources/menu_data.csv')\n",
    "sales_filepath = Path('Resources/sales_data.csv')\n",
    "\n",
    "# @TODO: Initialize list objects to hold our menu and sales data\n",
    "menu = []\n",
    "sales = []\n",
    "\n",
    "# @TODO: Read in the menu data into the menu list\n",
    "\n",
    "with open(menu_filepath, 'r') as menufile:\n",
    "    csvreader=csv.reader(menufile, delimiter=',')\n",
    "    \n",
    "    header = next(csvreader)\n",
    "    print(f\"{header}, 'profit'\")\n",
    " # to directly create list of lists menu =list(csvreader)\n",
    " # to print the csv file as list  print(menu)\n",
    "    for line in csvreader:\n",
    "       # To view the contents of the csvfile---> print(line)\n",
    "        \n",
    "        \n",
    "        item = line[0]\n",
    "        category= line[1]\n",
    "        description= line[2]\n",
    "        price= float(line[3])\n",
    "        cost= float(line[4])\n",
    "    # @TODO: Calculate profit of each item in the menu data\n",
    "        profit = price - cost\n",
    "        \n",
    "        line.append(profit)\n",
    "        menu.append(line)\n",
    "        \n",
    "       \n",
    "        \n",
    " #to print the menu list of lists   \n",
    "   # print(menu)\n",
    "    \n",
    "    "
   ]
  },
  {
   "cell_type": "code",
   "execution_count": 3,
   "metadata": {},
   "outputs": [],
   "source": [
    "# @TODO: Initialize dict object to hold our key-value pairs of items and metrics\n",
    "report = {}\n",
    "\n",
    "# Initialize a row counter variable\n",
    "row_count = 0"
   ]
  },
  {
   "cell_type": "code",
   "execution_count": 4,
   "metadata": {},
   "outputs": [
    {
     "name": "stdout",
     "output_type": "stream",
     "text": [
      "['Line_Item_ID', 'Date', 'Credit_Card_Number', 'Quantity', 'Menu_Item']\n",
      "spicy miso ramen {'01-count': 9238, '02-revenue': 0, '03-cogs': 0, '04-profit': 0}\n",
      "tori paitan ramen {'01-count': 9156, '02-revenue': 0, '03-cogs': 0, '04-profit': 0}\n",
      "truffle butter ramen {'01-count': 8982, '02-revenue': 0, '03-cogs': 0, '04-profit': 0}\n",
      "tonkotsu ramen {'01-count': 9288, '02-revenue': 0, '03-cogs': 0, '04-profit': 0}\n",
      "vegetarian spicy miso {'01-count': 9216, '02-revenue': 0, '03-cogs': 0, '04-profit': 0}\n",
      "shio ramen {'01-count': 9180, '02-revenue': 0, '03-cogs': 0, '04-profit': 0}\n",
      "miso crab ramen {'01-count': 8890, '02-revenue': 0, '03-cogs': 0, '04-profit': 0}\n",
      "nagomi shoyu {'01-count': 9132, '02-revenue': 0, '03-cogs': 0, '04-profit': 0}\n",
      "soft-shell miso crab ramen {'01-count': 9130, '02-revenue': 0, '03-cogs': 0, '04-profit': 0}\n",
      "burnt garlic tonkotsu ramen {'01-count': 9070, '02-revenue': 0, '03-cogs': 0, '04-profit': 0}\n",
      "vegetarian curry + king trumpet mushroom ramen {'01-count': 8824, '02-revenue': 0, '03-cogs': 0, '04-profit': 0}\n"
     ]
    }
   ],
   "source": [
    "# @TODO: Read in the sales data into the sales list\n",
    "\n",
    "with open(sales_filepath, 'r') as salesfile:\n",
    "    csvreader=csv.reader(salesfile, delimiter=',')\n",
    "    \n",
    "    header = next(csvreader)\n",
    "    print(header)\n",
    " \n",
    "    for line in csvreader:\n",
    "# To view the contents of the csvfile--> print(line)\n",
    "        \n",
    "    # Line_Item_ID,Date,Credit_Card_Number,Quantity,Menu_Item\n",
    "    # @TODO: Initialize sales data variables\n",
    "   \n",
    "        line_num = int(line[0])\n",
    "        date= line[1]\n",
    "        cc_num= int(line[2])\n",
    "        quantity= int(line[3])\n",
    "        menu_item= line[4]\n",
    "        sales.append(line)\n",
    "        \n",
    "       # print(sales[:10]) \"Printing the entire sales list gives an error of low memory\"\n",
    "\n",
    "# @TODO:\n",
    "# If the item value not in the report, add it as a new entry with initialized metrics\n",
    "# Naming convention allows the keys to be ordered in logical fashion, count, revenue, cost, profit\n",
    "        if menu_item not in report.keys():\n",
    "            report[menu_item] = {\"01-count\": quantity, \"02-revenue\" : 0, \"03-cogs\": 0, \"04-profit\": 0}\n",
    "        else:\n",
    "            report[menu_item][\"01-count\"] += quantity\n",
    "            \n",
    "\n",
    "# Print the output to the console    \n",
    "    for a, b in report.items():\n",
    "        print (a,b)\n",
    "     "
   ]
  },
  {
   "cell_type": "code",
   "execution_count": 10,
   "metadata": {},
   "outputs": [
    {
     "name": "stdout",
     "output_type": "stream",
     "text": [
      "spicy miso ramen {'01-count': 9238, '02-revenue': 110856.0, '03-cogs': 46190.0, '04-profit': 64666.0}\n",
      "tori paitan ramen {'01-count': 9156, '02-revenue': 119028.0, '03-cogs': 54936.0, '04-profit': 64092.0}\n",
      "truffle butter ramen {'01-count': 8982, '02-revenue': 125748.0, '03-cogs': 62874.0, '04-profit': 62874.0}\n",
      "tonkotsu ramen {'01-count': 9288, '02-revenue': 120744.0, '03-cogs': 55728.0, '04-profit': 65016.0}\n",
      "vegetarian spicy miso {'01-count': 9216, '02-revenue': 110592.0, '03-cogs': 46080.0, '04-profit': 64512.0}\n",
      "shio ramen {'01-count': 9180, '02-revenue': 100980.0, '03-cogs': 45900.0, '04-profit': 55080.0}\n",
      "miso crab ramen {'01-count': 8890, '02-revenue': 106680.0, '03-cogs': 53340.0, '04-profit': 53340.0}\n",
      "nagomi shoyu {'01-count': 9132, '02-revenue': 100452.0, '03-cogs': 45660.0, '04-profit': 54792.0}\n",
      "soft-shell miso crab ramen {'01-count': 9130, '02-revenue': 127820.0, '03-cogs': 63910.0, '04-profit': 63910.0}\n",
      "burnt garlic tonkotsu ramen {'01-count': 9070, '02-revenue': 126980.0, '03-cogs': 54420.0, '04-profit': 72560.0}\n",
      "vegetarian curry + king trumpet mushroom ramen {'01-count': 8824, '02-revenue': 114712.0, '03-cogs': 61768.0, '04-profit': 52944.0}\n"
     ]
    }
   ],
   "source": [
    " # Loop through the list containing sales data  \n",
    "    for sales_row in sales:\n",
    "        sale_item = sales_row[4]\n",
    "        quantity = sales_row[3]\n",
    "        \n",
    "        # Loop through the list conatining menu data\n",
    "        for menu_row in menu:\n",
    "            menu_item = menu_row[0]\n",
    "            price = menu_row[3]\n",
    "            cost = menu_row[4]\n",
    "            \n",
    "            # Comparing the data in both the lists to get the desired results\n",
    "            if sale_item == menu_item:\n",
    "                report[menu_item][\"02-revenue\"] += (float(price) * int(quantity))\n",
    "                report[menu_item][\"03-cogs\"] += (float(cost) * int(quantity))\n",
    "                report[menu_item][\"04-profit\"] += (float(price)-float(cost))* int(quantity)\n",
    "            elif sale_item != menu_item:\n",
    "                continue  \n",
    "    \n",
    "    # Printing the results on the console            \n",
    "    for a, b in report.items():\n",
    "        print (a,b)\n",
    "        \n",
    "        \n",
    "    \n",
    "            "
   ]
  },
  {
   "cell_type": "code",
   "execution_count": 11,
   "metadata": {},
   "outputs": [
    {
     "data": {
      "text/plain": [
       "WindowsPath('C:/Users/nites/OneDrive/Desktop/FinTech_NJ/Python_homework/PyRamen')"
      ]
     },
     "execution_count": 11,
     "metadata": {},
     "output_type": "execute_result"
    }
   ],
   "source": [
    "# output file with metrics\n",
    "output_path = Path(\"output.txt\")\n",
    "Path.cwd()  "
   ]
  },
  {
   "cell_type": "code",
   "execution_count": 12,
   "metadata": {},
   "outputs": [],
   "source": [
    "#Print the results on the output file named \"output.txt\"\n",
    "with open(output_path, 'w') as file:\n",
    "    file.write(\"Report for PyRamen.\\n\")\n",
    "    for key in report:\n",
    "        file.write(f\"{key} {report[key]} \\n\")"
   ]
  },
  {
   "cell_type": "code",
   "execution_count": null,
   "metadata": {},
   "outputs": [],
   "source": []
  }
 ],
 "metadata": {
  "kernelspec": {
   "display_name": "Python 3",
   "language": "python",
   "name": "python3"
  },
  "language_info": {
   "codemirror_mode": {
    "name": "ipython",
    "version": 3
   },
   "file_extension": ".py",
   "mimetype": "text/x-python",
   "name": "python",
   "nbconvert_exporter": "python",
   "pygments_lexer": "ipython3",
   "version": "3.7.6"
  }
 },
 "nbformat": 4,
 "nbformat_minor": 4
}
